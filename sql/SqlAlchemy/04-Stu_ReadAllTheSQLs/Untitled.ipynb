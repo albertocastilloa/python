{
 "cells": [
  {
   "cell_type": "code",
   "execution_count": 26,
   "metadata": {},
   "outputs": [],
   "source": [
    "import pandas as pd\n",
    "from sqlalchemy import create_engine"
   ]
  },
  {
   "cell_type": "code",
   "execution_count": 27,
   "metadata": {},
   "outputs": [],
   "source": [
    "database_path = \"Resources/Census_Data.sqlite\"\n",
    "database_path2 = \"Resources/zip_census.sqlite\""
   ]
  },
  {
   "cell_type": "code",
   "execution_count": 28,
   "metadata": {},
   "outputs": [],
   "source": [
    "engine = create_engine(\"sqlite:///\" + database_path)\n",
    "engine2 = create_engine(\"sqlite:///\" + database_path2)"
   ]
  },
  {
   "cell_type": "code",
   "execution_count": 29,
   "metadata": {},
   "outputs": [],
   "source": [
    "conn = engine.connect()\n",
    "conn2 = engine2.connect()"
   ]
  },
  {
   "cell_type": "code",
   "execution_count": 30,
   "metadata": {},
   "outputs": [],
   "source": [
    "data = pd.read_sql(\"SELECT * FROM Census_Data\", conn)"
   ]
  },
  {
   "cell_type": "code",
   "execution_count": 44,
   "metadata": {},
   "outputs": [
    {
     "data": {
      "text/plain": [
       "Index(['Asian Population', 'Black Population', 'CityState',\n",
       "       'Education Associates', 'Education Bachelors', 'Education Doctorate',\n",
       "       'Education GED', 'Education High School', 'Education Masters',\n",
       "       'Education None', 'Education Professional',\n",
       "       'Employment Female Computer Engineering', 'Employment Labor Force',\n",
       "       'Employment Male Computer Engineering', 'Employment Unemployed',\n",
       "       'Hispanic Population', 'Household Income', 'Income Per Capita',\n",
       "       'Median Age', 'Median Female Age', 'Median Gross Rent',\n",
       "       'Median Home Value', 'Median Male Age', 'Native American Population',\n",
       "       'Population', 'Poverty', 'White Population', 'city', 'lat', 'lng',\n",
       "       'state'],\n",
       "      dtype='object')"
      ]
     },
     "execution_count": 44,
     "metadata": {},
     "output_type": "execute_result"
    }
   ],
   "source": [
    "data.columns.sort_values()"
   ]
  },
  {
   "cell_type": "code",
   "execution_count": 40,
   "metadata": {},
   "outputs": [
    {
     "data": {
      "text/plain": [
       "30969"
      ]
     },
     "execution_count": 40,
     "metadata": {},
     "output_type": "execute_result"
    }
   ],
   "source": [
    "data.size"
   ]
  },
  {
   "cell_type": "code",
   "execution_count": 33,
   "metadata": {},
   "outputs": [],
   "source": [
    "data2 = pd.read_sql(\"SELECT * FROM zip_census\", conn2)"
   ]
  },
  {
   "cell_type": "code",
   "execution_count": 45,
   "metadata": {},
   "outputs": [
    {
     "data": {
      "text/plain": [
       "Index(['Asian Population', 'Black Population', 'CityState',\n",
       "       'Education Associates', 'Education Bachelors', 'Education Doctorate',\n",
       "       'Education GED', 'Education High School', 'Education Masters',\n",
       "       'Education None', 'Education Professional',\n",
       "       'Employment Female Computer Engineering', 'Employment Labor Force',\n",
       "       'Employment Male Computer Engineering', 'Employment Unemployed',\n",
       "       'Hispanic Population', 'Household Income', 'Income Per Capita',\n",
       "       'Median Age', 'Median Female Age', 'Median Gross Rent',\n",
       "       'Median Home Value', 'Median Male Age', 'Native American Population',\n",
       "       'Population', 'Poverty', 'White Population', 'city', 'lat', 'lng',\n",
       "       'state', 'zipcode'],\n",
       "      dtype='object')"
      ]
     },
     "execution_count": 45,
     "metadata": {},
     "output_type": "execute_result"
    }
   ],
   "source": [
    "data2.columns.sort_values()"
   ]
  },
  {
   "cell_type": "code",
   "execution_count": 39,
   "metadata": {},
   "outputs": [
    {
     "data": {
      "text/plain": [
       "7424"
      ]
     },
     "execution_count": 39,
     "metadata": {},
     "output_type": "execute_result"
    }
   ],
   "source": [
    "data2.size"
   ]
  },
  {
   "cell_type": "code",
   "execution_count": 42,
   "metadata": {},
   "outputs": [],
   "source": [
    "data3 = data2.merge(data, on='CityState', how='inner')"
   ]
  },
  {
   "cell_type": "code",
   "execution_count": 43,
   "metadata": {},
   "outputs": [
    {
     "data": {
      "text/plain": [
       "682"
      ]
     },
     "execution_count": 43,
     "metadata": {},
     "output_type": "execute_result"
    }
   ],
   "source": [
    "data3.size"
   ]
  },
  {
   "cell_type": "code",
   "execution_count": null,
   "metadata": {},
   "outputs": [],
   "source": []
  }
 ],
 "metadata": {
  "kernelspec": {
   "display_name": "Python 3",
   "language": "python",
   "name": "python3"
  },
  "language_info": {
   "codemirror_mode": {
    "name": "ipython",
    "version": 3
   },
   "file_extension": ".py",
   "mimetype": "text/x-python",
   "name": "python",
   "nbconvert_exporter": "python",
   "pygments_lexer": "ipython3",
   "version": "3.7.1"
  }
 },
 "nbformat": 4,
 "nbformat_minor": 2
}
