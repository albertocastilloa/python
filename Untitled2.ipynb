{
 "cells": [
  {
   "cell_type": "code",
   "execution_count": null,
   "metadata": {},
   "outputs": [],
   "source": [
    "myName = input(\"Tell me your name: \")\n",
    "myMonths = int(input(\"How many years coding: \"))\n",
    "\n",
    "nName = input(\"Tell me your neighbor's name: \")\n",
    "nMonths = int(input(\"How many years has coding: \"))\n",
    "\n",
    "print(f\"I'm {myName} and I have {myMonths} coding\")\n",
    "print(f\"My neighbor's name is {nName} and has {nMonths} months coding\")"
   ]
  },
  {
   "cell_type": "code",
   "execution_count": null,
   "metadata": {},
   "outputs": [],
   "source": []
  }
 ],
 "metadata": {
  "kernelspec": {
   "display_name": "Python 3",
   "language": "python",
   "name": "python3"
  }
 },
 "nbformat": 4,
 "nbformat_minor": 2
}
